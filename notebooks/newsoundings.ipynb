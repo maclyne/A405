{
 "cells": [
  {
   "cell_type": "markdown",
   "metadata": {},
   "source": [
    "### Retrieve soundings directly using python\n",
    "\n",
    "This notebook uses the [wyominglib](https://github.com/phaustin/A405/blob/master/soundings/wyominglib.py) module, which parses  sounding data from [U. Wyoming](http://weather.uwyo.edu/upperair/sounding.html)\n",
    "with [BeautifulSoup](http://www.crummy.com/software/BeautifulSoup/)"
   ]
  },
  {
   "cell_type": "code",
   "execution_count": 2,
   "metadata": {
    "collapsed": false
   },
   "outputs": [
    {
     "name": "stdout",
     "output_type": "stream",
     "text": [
      "Help on function make_frames in module soundings.wyominglib:\n",
      "\n",
      "make_frames(html_doc)\n",
      "    input: web page from wyoming upperair sounding site\n",
      "           http://weather.uwyo.edu/cgi-bin/sounding retrieved by\n",
      "           the requests module\n",
      "    output: attr_dict dictionary with ['header', 'site_id','longitude','latitude', 'elevation', 'units']\n",
      "            sound_dict soudning dictionary with sounding times as keys and sounding as dataframes\n",
      "\n",
      "None\n"
     ]
    }
   ],
   "source": [
    "from importlib import reload\n",
    "import soundings.wyominglib\n",
    "reload(soundings.wyominglib)\n",
    "from soundings.wyominglib import make_frames\n",
    "import pandas as pd\n",
    "from matplotlib import pyplot as plt\n",
    "import requests\n",
    "import datetime\n",
    "from datetime import timezone as tz\n",
    "import tzlocal   #pip install tzlocal\n",
    "import h5py\n",
    "from pprint import pformat\n",
    "print(help(make_frames))"
   ]
  },
  {
   "cell_type": "markdown",
   "metadata": {},
   "source": [
    "### 1.  Form the url using a template with variable substitution from a dictionary"
   ]
  },
  {
   "cell_type": "code",
   "execution_count": 3,
   "metadata": {
    "collapsed": true
   },
   "outputs": [],
   "source": [
    "#this template holds the text that will always be the same,\n",
    "# plus variables that will be substituted in based on dictionary values\n",
    "\n",
    "url_template=(\"http://weather.uwyo.edu/cgi-bin/sounding?\"\n",
    "              \"region={region:s}\"\n",
    "              \"&TYPE=TEXT%3ALIST\"\n",
    "              \"&YEAR={year:s}\"\n",
    "              \"&MONTH={month:s}\"\n",
    "              \"&FROM={start:s}\"\n",
    "              \"&TO={stop:s}\"\n",
    "              \"&STNM={station:s}\")"
   ]
  },
  {
   "cell_type": "markdown",
   "metadata": {},
   "source": [
    "#### Uncomment one of these dictionaries to get a set of soundings.  Dictionary values are inserted into the url_tempate to form the query url.  See wikipedia on [query strings](https://en.wikipedia.org/wiki/Query_string)"
   ]
  },
  {
   "cell_type": "code",
   "execution_count": 4,
   "metadata": {
    "collapsed": false
   },
   "outputs": [
    {
     "name": "stdout",
     "output_type": "stream",
     "text": [
      "here is the url we call to get the soundings: \n",
      " http://weather.uwyo.edu/cgi-bin/sounding?region=nz&TYPE=TEXT%3ALIST&YEAR=2006&MONTH=7&FROM=0100&TO=0500&STNM=93844\n"
     ]
    }
   ],
   "source": [
    "#values=dict(region='samer',year='2013',month='2',start='0100',stop='2800',station='82965')\n",
    "#values=dict(region='nz',year='2013',month='2',start='0100',stop='2800',station='93417')\n",
    "#values=dict(region='naconf',year='2013',month='2',start='0100',stop='2800',station='71802')\n",
    "#values=dict(region='ant',year='2013',month='07',start='0100',stop='2800',station='89009')\n",
    "\n",
    "values=dict(region='nz',year='2006',month='7',start='0100',stop='0500',station='93844') #Change start and stop to load more than one day's sounding\n",
    "url=url_template.format_map(values)\n",
    "print('here is the url we call to get the soundings: \\n',url)"
   ]
  },
  {
   "cell_type": "markdown",
   "metadata": {},
   "source": [
    "### 2. Use the requests module to grab the web page"
   ]
  },
  {
   "cell_type": "code",
   "execution_count": 14,
   "metadata": {
    "collapsed": false
   },
   "outputs": [
    {
     "name": "stdout",
     "output_type": "stream",
     "text": [
      "read 49505 bytes\n"
     ]
    }
   ],
   "source": [
    "#\n",
    "# Make do_web False to reuse a page for debugging\n",
    "#\n",
    "do_web = False\n",
    "backup_file='backup.txt' #can change this filename if want to avoid overwriting backups\n",
    "if do_web:\n",
    "    #\n",
    "    # grab the web page that is loaded with this url\n",
    "    #\n",
    "    html_doc = requests.get(url).text\n",
    "    print('read {} bytes'.format(len(html_doc)))\n",
    "    with open(backup_file,'w') as f:\n",
    "        f.write(html_doc)\n",
    "    if len(html_doc) < 2000:\n",
    "        print('debug: short html_doc, something went wrong:',html_doc)\n",
    "        sys.exit(1)\n",
    "else:\n",
    "    with open(backup_file,'r') as f:\n",
    "        html_doc=f.read()"
   ]
  },
  {
   "cell_type": "markdown",
   "metadata": {
    "collapsed": false
   },
   "source": [
    "### 3.  Parse the sounding page into two dictionaries\n",
    "\n",
    "attr_dict holds attributes ['header', 'site_id','longitude','latitude', 'elevation', 'units']\n",
    "\n",
    "sounding_dict holds the soundings indexed by datetime"
   ]
  },
  {
   "cell_type": "code",
   "execution_count": 6,
   "metadata": {
    "collapsed": false
   },
   "outputs": [
    {
     "name": "stdout",
     "output_type": "stream",
     "text": [
      "header is:  93844 NZNV Invercargill Aerodrome Observations at 00Z 01 Jul 2006\n"
     ]
    }
   ],
   "source": [
    "attr_dict,sounding_dict = make_frames(html_doc)"
   ]
  },
  {
   "cell_type": "markdown",
   "metadata": {},
   "source": [
    "### Create a timestamp and convert to UTC"
   ]
  },
  {
   "cell_type": "code",
   "execution_count": 7,
   "metadata": {
    "collapsed": false
   },
   "outputs": [
    {
     "name": "stdout",
     "output_type": "stream",
     "text": [
      "2016-01-20 03:24:31 UTC\n"
     ]
    }
   ],
   "source": [
    "mytz=tzlocal.get_localzone()\n",
    "now=datetime.datetime.now(tz=mytz)\n",
    "now=now.astimezone(tz.utc)\n",
    "timestamp=now.strftime('%Y-%m-%d %H:%M:%S UTC')\n",
    "print(timestamp)"
   ]
  },
  {
   "cell_type": "markdown",
   "metadata": {},
   "source": [
    "### Add history, query and timestamp attributes to the dictionary, and order the keys"
   ]
  },
  {
   "cell_type": "code",
   "execution_count": 8,
   "metadata": {
    "collapsed": true
   },
   "outputs": [],
   "source": [
    "attr_dict['timestamp']=timestamp\n",
    "attr_dict['history']=\"written by test_requests.py\"\n",
    "attr_dict['query']= url\n",
    "#\n",
    "# write the keys out in this order\n",
    "#\n",
    "key_list=['header', 'site_id','longitude','latitude', 'elevation', 'units','history','query','timestamp']"
   ]
  },
  {
   "cell_type": "markdown",
   "metadata": {},
   "source": [
    "### Use HDFStore to write the soundings out keyed by date"
   ]
  },
  {
   "cell_type": "code",
   "execution_count": 18,
   "metadata": {
    "collapsed": false
   },
   "outputs": [
    {
     "ename": "AttributeError",
     "evalue": "'str' object has no attribute 'strftime'",
     "output_type": "error",
     "traceback": [
      "\u001b[0;31m---------------------------------------------------------------------------\u001b[0m",
      "\u001b[0;31mAttributeError\u001b[0m                            Traceback (most recent call last)",
      "\u001b[0;32m<ipython-input-18-a6a759a1bda6>\u001b[0m in \u001b[0;36m<module>\u001b[0;34m()\u001b[0m\n\u001b[1;32m      5\u001b[0m         \u001b[0;31m#h5py groups need to be legal python variables\u001b[0m\u001b[0;34m\u001b[0m\u001b[0;34m\u001b[0m\u001b[0m\n\u001b[1;32m      6\u001b[0m         \u001b[0;31m#(remove Y to see error message)\u001b[0m\u001b[0;34m\u001b[0m\u001b[0;34m\u001b[0m\u001b[0m\n\u001b[0;32m----> 7\u001b[0;31m         \u001b[0mthetime\u001b[0m\u001b[0;34m=\u001b[0m\u001b[0mkey\u001b[0m\u001b[0;34m.\u001b[0m\u001b[0mstrftime\u001b[0m\u001b[0;34m(\u001b[0m\u001b[0;34m\"Y%Y_%b_%d_%HZ\"\u001b[0m\u001b[0;34m)\u001b[0m\u001b[0;34m\u001b[0m\u001b[0m\n\u001b[0m\u001b[1;32m      8\u001b[0m         \u001b[0mstore\u001b[0m\u001b[0;34m.\u001b[0m\u001b[0mput\u001b[0m\u001b[0;34m(\u001b[0m\u001b[0mthetime\u001b[0m\u001b[0;34m,\u001b[0m\u001b[0mvalue\u001b[0m\u001b[0;34m,\u001b[0m\u001b[0mformat\u001b[0m\u001b[0;34m=\u001b[0m\u001b[0;34m'table'\u001b[0m\u001b[0;34m)\u001b[0m\u001b[0;34m\u001b[0m\u001b[0m\n",
      "\u001b[0;31mAttributeError\u001b[0m: 'str' object has no attribute 'strftime'"
     ]
    }
   ],
   "source": [
    "name = 'out.h5'    \n",
    "with pd.HDFStore(name,'w') as store:\n",
    "    for key,value in sounding_dict.items():\n",
    "        #need to insert Y in front of the year because\n",
    "        #h5py groups need to be legal python variables\n",
    "        #(remove Y to see error message)\n",
    "        thetime=key.strftime(\"Y%Y_%b_%d_%HZ\")  \n",
    "        store.put(thetime,value,format='table')"
   ]
  },
  {
   "cell_type": "markdown",
   "metadata": {},
   "source": [
    "### Use h5py to store the attributes as metadata"
   ]
  },
  {
   "cell_type": "code",
   "execution_count": 10,
   "metadata": {
    "collapsed": false
   },
   "outputs": [
    {
     "name": "stdout",
     "output_type": "stream",
     "text": [
      "writing key, value:  header 93844 NZNV Invercargill Aerodrome Observations at 00Z 01 Jul 2006\n",
      "writing key, value:  site_id 93844\n",
      "writing key, value:  longitude 168.31\n",
      "writing key, value:  latitude -46.41\n",
      "writing key, value:  elevation 4.0\n",
      "writing key, value:  units hPa;m;C;C;%;g/kg;deg;knot;K;K;K\n",
      "writing key, value:  history written by test_requests.py\n",
      "writing key, value:  query http://weather.uwyo.edu/cgi-bin/sounding?region=nz&TYPE=TEXT%3ALIST&YEAR=2006&MONTH=7&FROM=0100&TO=0500&STNM=93844\n",
      "writing key, value:  timestamp 2016-01-20 03:24:31 UTC\n"
     ]
    }
   ],
   "source": [
    "with h5py.File(name,'a') as f:\n",
    "        for key in key_list:\n",
    "            print('writing key, value: ',key,attr_dict[key])\n",
    "            f.attrs[key]=attr_dict[key]\n",
    "        f.close()"
   ]
  },
  {
   "cell_type": "markdown",
   "metadata": {},
   "source": [
    "### Show how to read the data and metadata back in\n",
    "\n",
    "Need to trap IOError because there are 4 empty variables in the hdf file\n",
    "that can't be read.  See [this discussion](https://github.com/h5py/h5py/issues/279)\n",
    "about how to fix this in future h5py releases."
   ]
  },
  {
   "cell_type": "code",
   "execution_count": 11,
   "metadata": {
    "collapsed": false,
    "scrolled": true
   },
   "outputs": [
    {
     "name": "stdout",
     "output_type": "stream",
     "text": [
      "empty key:  TITLE\n",
      "empty key:  CLASS\n",
      "empty key:  VERSION\n",
      "empty key:  PYTABLES_FORMAT_VERSION\n",
      "\n",
      "read in these attributes: \n",
      "\n",
      " {'elevation': 4.0,\n",
      " 'header': '93844 NZNV Invercargill Aerodrome Observations at 00Z 01 Jul 2006',\n",
      " 'history': 'written by test_requests.py',\n",
      " 'latitude': -46.409999999999997,\n",
      " 'longitude': 168.31,\n",
      " 'query': 'http://weather.uwyo.edu/cgi-bin/sounding?region=nz&TYPE=TEXT%3ALIST&YEAR=2006&MONTH=7&FROM=0100&TO=0500&STNM=93844',\n",
      " 'site_id': '93844',\n",
      " 'timestamp': '2016-01-20 03:24:31 UTC',\n",
      " 'units': 'hPa;m;C;C;%;g/kg;deg;knot;K;K;K'}\n"
     ]
    }
   ],
   "source": [
    "attributes={}\n",
    "with h5py.File(name,'r') as f:\n",
    "    keys=f.attrs.keys()\n",
    "    for key in keys:\n",
    "        try:\n",
    "            attributes[key]=f.attrs[key]\n",
    "        except IOError:\n",
    "            print('empty key: ',key)\n",
    "print('\\nread in these attributes: \\n\\n',pformat(attributes))"
   ]
  },
  {
   "cell_type": "code",
   "execution_count": 12,
   "metadata": {
    "collapsed": false
   },
   "outputs": [
    {
     "name": "stdout",
     "output_type": "stream",
     "text": [
      "\n",
      "++++++++++++++++++++++++++++++\n",
      "sounding times:['/Y2006_Jul_01_00Z', '/Y2006_Jul_01_12Z', '/Y2006_Jul_02_00Z', '/Y2006_Jul_02_12Z', '/Y2006_Jul_03_00Z', '/Y2006_Jul_03_12Z', '/Y2006_Jul_04_00Z', '/Y2006_Jul_04_12Z', '/Y2006_Jul_05_00Z']\n",
      "++++++++++++++++++++++++++++++\n",
      " \n",
      "\n",
      "++++++++++++++++++++++++++++++\n",
      "columns: Index(['pres', 'hght', 'temp', 'dwpt', 'relh', 'mixr', 'drct', 'sknt', 'thta',\n",
      "       'thte', 'thtv'],\n",
      "      dtype='object')\n",
      "++++++++++++++++++++++++++++++\n",
      " \n",
      "title: : 93844 NZNV Invercargill Aerodrome at 2006_Jul_01_00Z\n",
      "variables with units: \n",
      " {'drct': 'deg',\n",
      " 'dwpt': 'C',\n",
      " 'hght': 'm',\n",
      " 'mixr': 'g/kg',\n",
      " 'pres': 'hPa',\n",
      " 'relh': '%',\n",
      " 'sknt': 'knot',\n",
      " 'temp': 'C',\n",
      " 'thta': 'K',\n",
      " 'thte': 'K',\n",
      " 'thtv': 'K'}\n"
     ]
    }
   ],
   "source": [
    "name = 'out.h5'    \n",
    "separator= '\\n' + '+'*30 + '\\n'\n",
    "sounding_dict={}\n",
    "with pd.HDFStore(name,'r') as store:\n",
    "    times=store.keys()\n",
    "    for the_time in times:\n",
    "        sounding_dict[the_time]=store[the_time]\n",
    "sounding=sounding_dict[times[0]]\n",
    "print('{0:}sounding times:{1:}{0:} '.format(separator,times))\n",
    "print('{0:}columns: {1:}{0:} '.format(separator,pformat(sounding.columns)))\n",
    "title_string=attributes['header']\n",
    "index=title_string.find(' Observations at')\n",
    "location=title_string[:index]\n",
    "title='{} at {}'.format(location,times[0][2:])\n",
    "print('title: :',title)\n",
    "units=attributes['units'].split(';')\n",
    "units_dict={}\n",
    "for count,var in enumerate(sounding.columns):\n",
    "    units_dict[var]=units[count]\n",
    "print('variables with units: \\n',pformat(units_dict))"
   ]
  },
  {
   "cell_type": "code",
   "execution_count": 15,
   "metadata": {
    "collapsed": false
   },
   "outputs": [
    {
     "ename": "NameError",
     "evalue": "name 'the_sound' is not defined",
     "output_type": "error",
     "traceback": [
      "\u001b[0;31m---------------------------------------------------------------------------\u001b[0m",
      "\u001b[0;31mNameError\u001b[0m                                 Traceback (most recent call last)",
      "\u001b[0;32m<ipython-input-15-ed07be44bf8f>\u001b[0m in \u001b[0;36m<module>\u001b[0;34m()\u001b[0m\n\u001b[1;32m      3\u001b[0m \u001b[0;32mimport\u001b[0m \u001b[0mnumpy\u001b[0m \u001b[0;32mas\u001b[0m \u001b[0mnp\u001b[0m\u001b[0;34m\u001b[0m\u001b[0m\n\u001b[1;32m      4\u001b[0m \u001b[0;34m\u001b[0m\u001b[0m\n\u001b[0;32m----> 5\u001b[0;31m \u001b[0mdelta_z_list\u001b[0m \u001b[0;34m=\u001b[0m \u001b[0mnp\u001b[0m\u001b[0;34m.\u001b[0m\u001b[0mdiff\u001b[0m\u001b[0;34m(\u001b[0m\u001b[0mthe_sound\u001b[0m\u001b[0;34m[\u001b[0m\u001b[0;34m'hght'\u001b[0m\u001b[0;34m]\u001b[0m\u001b[0;34m)\u001b[0m\u001b[0;34m\u001b[0m\u001b[0m\n\u001b[0m\u001b[1;32m      6\u001b[0m \u001b[0mgrav\u001b[0m \u001b[0;34m=\u001b[0m  \u001b[0;36m9.8\u001b[0m \u001b[0;31m#make more accurate\u001b[0m\u001b[0;34m\u001b[0m\u001b[0m\n\u001b[1;32m      7\u001b[0m \u001b[0mRd\u001b[0m \u001b[0;34m=\u001b[0m \u001b[0;36m287.\u001b[0m \u001b[0;31m#J kg^-1 K^-1\u001b[0m\u001b[0;34m\u001b[0m\u001b[0m\n",
      "\u001b[0;31mNameError\u001b[0m: name 'the_sound' is not defined"
     ]
    }
   ],
   "source": [
    "# calculate the scale height H = (/integral from 0 to z of delta_z  dz) / (/integral from 0 to z of g/RdT dz)\n",
    "\n",
    "import numpy as np\n",
    "\n",
    "delta_z_list = np.diff(the_sounding['hght'])\n",
    "grav =  9.8 #make more accurate\n",
    "Rd = 287. #J kg^-1 K^-1\n",
    "Tbaro = np.sum(np.diff(the_sound['temp' [0:]] +273.15)) +273.15\n",
    "print('Tbaro=',Tbaro, 'K')\n",
    "H_numer = np.sum(delta_z_list) #numerator for scale height\n",
    "H_denom = np.sum(grav * delta_z_list / (Rd * the_sound['temp'][0:-1]))\n",
    "H_denom = np.sum(grav * delta_z_list / (Rd * 723.15))\n",
    "H_scale_height = H_numer/ H_denom\n",
    "print('scaleheight=',H_scale_height, 'm')"
   ]
  },
  {
   "cell_type": "code",
   "execution_count": null,
   "metadata": {
    "collapsed": false
   },
   "outputs": [],
   "source": [
    "# calculate the scale height H = (/integral from 0 to z of delta_z  dz) / (/integral from 0 to z of g/RdT dz)\n",
    "#import numpy as np\n",
    "\n",
    "#delta_z_list = np.diff(the_sound['hght'])\n",
    "#grav =  9.8 #make more accurate\n",
    "#Rd = 287. #J kg^-1 K^-1\n",
    "#Tbaro = np.sum(np.diff(the_sound['temp' [0:]] +273.15)) +273.15\n",
    "#print('Tbaro=',Tbaro, 'K')\n",
    "#H_numer = np.sum(delta_z_list) #numerator for scale height\n",
    "#H_denom = np.sum(grav * delta_z_list / (Rd * Tbaro))\n",
    "\n",
    "#H_scale_height = H_numer/ H_denom\n",
    "#print('scaleheight=',H_scale_height, 'm')"
   ]
  },
  {
   "cell_type": "code",
   "execution_count": null,
   "metadata": {
    "collapsed": false
   },
   "outputs": [],
   "source": [
    "# hypsometric pressure equation\n",
    "hypso_pres = ((the_sound['pres'][0]) * np.exp(-(the_sound['hght' [0:]])/ H_scale_height))\n",
    "\n"
   ]
  },
  {
   "cell_type": "code",
   "execution_count": null,
   "metadata": {
    "collapsed": false,
    "scrolled": true
   },
   "outputs": [],
   "source": [
    "print(the_sound['hght'][0:-3])"
   ]
  },
  {
   "cell_type": "code",
   "execution_count": null,
   "metadata": {
    "collapsed": false,
    "scrolled": true
   },
   "outputs": [],
   "source": [
    "%matplotlib inline\n",
    "key=times[3]  #pick the third sounding\n",
    "the_sounding=sounding_dict[key]\n",
    "m2km=1.e-3  #convert meters to km\n",
    "plt.style.use('ggplot')\n",
    "fig,ax=plt.subplots(1,1,figsize=(8,10))\n",
    "#ax.plot(the_sounding['temp'],the_sounding['hght']*m2km,label='temp')\n",
    "#ax.plot(the_sounding['dwpt'],the_sounding['hght']*m2km,label='dewpoint')\n",
    "ax.plot(the_sounding['pres'],the_sounding['hght']*m2km,label='pres')\n",
    "\n",
    "\n",
    "ax.plot(hypso_pres,(the_sounding['hght'][0:-3])*m2km,label='hypsometric_pres')\n",
    "\n",
    "\n",
    "ax.legend()# add legend here\n",
    "#out=ax.set(xlabel=\"temperature (deg C)\",ylabel=\"height (km)\",\n",
    "#      title =title)\n",
    "out=ax.set(xlabel=\"pressure (hPa)\",ylabel=\"height (km)\",\n",
    "      title =title)\n",
    "out=ax.set(ylim=[0,25],xlim=[20,1100])"
   ]
  },
  {
   "cell_type": "code",
   "execution_count": null,
   "metadata": {
    "collapsed": false
   },
   "outputs": [],
   "source": [
    "fig,ax=plt.subplots(1,1,figsize=(8,10))\n",
    "for the_time in times:\n",
    "    the_sound=sounding_dict[the_time]\n",
    "    ax.plot(the_sound['dwpt'],the_sound['hght']*m2km)\n",
    "out=ax.set(xlabel=\"dew point temperature (deg C)\",ylabel=\"height (km)\",\n",
    "      title =location)\n",
    "out=ax.set(ylim=[0,2],xlim=[-30,30])\n",
    "print('Dew point temperature between {} to {}'.format(times[0],times[-1]))"
   ]
  },
  {
   "cell_type": "code",
   "execution_count": null,
   "metadata": {
    "collapsed": false
   },
   "outputs": [],
   "source": []
  },
  {
   "cell_type": "code",
   "execution_count": null,
   "metadata": {
    "collapsed": false
   },
   "outputs": [],
   "source": [
    "\n",
    "\n"
   ]
  },
  {
   "cell_type": "code",
   "execution_count": null,
   "metadata": {
    "collapsed": true
   },
   "outputs": [],
   "source": []
  },
  {
   "cell_type": "code",
   "execution_count": null,
   "metadata": {
    "collapsed": true
   },
   "outputs": [],
   "source": []
  }
 ],
 "metadata": {
  "kernelspec": {
   "display_name": "Python 3",
   "language": "python",
   "name": "python3"
  },
  "language_info": {
   "codemirror_mode": {
    "name": "ipython",
    "version": 3
   },
   "file_extension": ".py",
   "mimetype": "text/x-python",
   "name": "python",
   "nbconvert_exporter": "python",
   "pygments_lexer": "ipython3",
   "version": "3.5.1"
  }
 },
 "nbformat": 4,
 "nbformat_minor": 0
}
