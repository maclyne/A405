{
 "cells": [
  {
   "cell_type": "markdown",
   "metadata": {},
   "source": [
    "### This notebook uses some new library functions in the a405dropgrow package to find equilibrium drop sizes"
   ]
  },
  {
   "cell_type": "code",
<<<<<<< HEAD
   "execution_count": 1,
=======
   "execution_count": 28,
>>>>>>> d28b56d9ec6b205a6ff1f721ae0456207d613570
   "metadata": {
    "collapsed": false
   },
   "outputs": [],
   "source": [
    "import a405dropgrow.aerolib\n",
    "from importlib import reload\n",
    "reload(a405dropgrow.aerolib)\n",
    "#\n",
    "# new library for aerosol functions\n",
    "#\n",
    "from a405dropgrow.aerolib import lognormal,create_koehler,find_koehler_coeffs\n",
    "import numpy as np\n",
    "import a405utils.helper_funs\n",
    "reload(a405utils.helper_funs)\n",
    "from a405utils.helper_funs import make_tuple, find_centers\n",
    "from a405thermo.rootfinder import find_interval, fzero\n",
    "import ruamel.yaml as ry  #need to pip install ruamel.yaml\n",
    "import pandas as pd\n",
    "#\n",
    "# load pprint to print the yaml input\n",
    "#\n",
    "import pprint\n",
    "pp = pprint.PrettyPrinter(indent=4)\n",
    "#\n",
    "# find the path to the data folder.  We know it's\n",
    "# at the same level as a405utils, so construct\n",
    "# the path relative to the location of the a405utils folder\n",
    "#\n",
    "from pathlib import Path\n",
    "util_dir = a405utils.__path__[0]\n",
    "#print(util_dir)\n",
    "data_dir = Path(util_dir).joinpath('../data')"
   ]
  },
  {
   "cell_type": "markdown",
   "metadata": {},
   "source": [
    "### Read in the inital conditions from a yaml file\n",
    "\n",
    "Use the [yaml](https://en.wikipedia.org/wiki/YAML) file format to specify\n",
    "aerosol properties and initial conditions as a nested dictionary with\n",
    "comments"
   ]
  },
  {
   "cell_type": "code",
<<<<<<< HEAD
   "execution_count": 2,
=======
   "execution_count": 29,
>>>>>>> d28b56d9ec6b205a6ff1f721ae0456207d613570
   "metadata": {
    "collapsed": false
   },
   "outputs": [
    {
     "name": "stdout",
     "output_type": "stream",
     "text": [
      "CommentedOrderedMap([   ('output_file', 'outfile.h5'),\n",
      "                        ('frame_name', 'dump_run'),\n",
      "                        ('dump_output', True),\n",
      "                        (   'initial_conditions',\n",
      "                            CommentedOrderedMap([   ('Tinit', 280.0),\n",
      "                                                    ('Zinit', 1000.0),\n",
      "                                                    ('Pinit', 90000.0),\n",
      "                                                    ('Sinit', 0.995),\n",
      "                                                    ('wvel', 0.5)])),\n",
      "                        (   'aerosol',\n",
      "                            CommentedOrderedMap([   ('Ms', 114),\n",
      "                                                    ('Mw', 18.0),\n",
      "                                                    ('Sigma', 0.075),\n",
      "                                                    ('vanHoff', 2.0),\n",
      "                                                    ('rhoaero', 1775),\n",
      "                                                    ('themean', 2e-17),\n",
      "                                                    ('sd', 1.7),\n",
      "                                                    ('totmass', 1.5e-09)])),\n",
      "                        (   'integration',\n",
      "                            CommentedOrderedMap([   ('tstart', 0),\n",
      "                                                    ('tend', 200),\n",
      "                                                    ('dt', 1)]))])\n"
     ]
    }
   ],
   "source": [
    "yaml_file = data_dir.joinpath('dropgrow.yaml')\n",
    "with yaml_file.open('r') as f:\n",
    "    input_dict=ry.load(f,Loader=ry.RoundTripLoader)\n",
    "pp.pprint(input_dict)"
   ]
  },
  {
   "cell_type": "markdown",
   "metadata": {},
   "source": [
    "### Calculate the lognormal aerosol mass distribution and get the number concentration in each of 30 bins\n",
    "\n",
    "(code borrowed from aero.ipynb)"
   ]
  },
  {
   "cell_type": "code",
<<<<<<< HEAD
   "execution_count": 3,
=======
   "execution_count": 30,
>>>>>>> d28b56d9ec6b205a6ff1f721ae0456207d613570
   "metadata": {
    "collapsed": true
   },
   "outputs": [],
   "source": [
    "mass_vals = np.linspace(-20,-16,30)\n",
    "mass_vals = 10**mass_vals\n",
    "mu=input_dict['aerosol']['themean']\n",
    "sigma = input_dict['aerosol']['sd']\n",
    "totmass = input_dict['aerosol']['totmass']\n",
    "mdist = totmass*lognormal(mass_vals,np.log(mu),np.log(sigma))\n",
    "mdist = find_centers(mdist)*np.diff(mass_vals)\n",
    "center_mass = find_centers(mass_vals)\n",
    "ndist = mdist/center_mass"
   ]
  },
  {
   "cell_type": "markdown",
   "metadata": {},
   "source": [
    "### Find the equilibrium radius for each of the 30 aerosol masses\n",
    "\n",
    "(code borrowed from koehler.ipynb)"
   ]
  },
  {
   "cell_type": "markdown",
   "metadata": {},
   "source": [
    "### Python note -- using function factories (\"closures\")\n",
    "\n",
    "A closure is a function object that remembers values in its  \"enclosing scope\" \n",
    "(see e.g [this article](http://www.shutupandship.com/2012/01/python-closures-explained.html)).  For example, instead of\n",
    "writing:\n",
    "\n",
    "```python\n",
    "my_string = \"{:8.3g}\".format(value)\n",
    "```\n",
    "    \n",
    "every time we wanted to format a floating point number, we could do something like this:"
   ]
  },
  {
   "cell_type": "code",
<<<<<<< HEAD
   "execution_count": 4,
=======
   "execution_count": 31,
>>>>>>> d28b56d9ec6b205a6ff1f721ae0456207d613570
   "metadata": {
    "collapsed": false
   },
   "outputs": [
    {
     "name": "stdout",
     "output_type": "stream",
     "text": [
      "debugging 10 1.55e-23\n"
     ]
    }
   ],
   "source": [
    "def make_format(format_string=\"{:8.3g}\"):\n",
    "    \"\"\"\n",
    "    returns a function that formats with format_string\n",
    "    \"\"\"\n",
    "    def inner_fun(value):\n",
    "        return format_string.format(value)\n",
    "    return inner_fun\n",
    "\n",
    "#Now get closures from make_format and use it:\n",
    "\n",
    "g = make_format()\n",
    "info = make_format(format_string=\"debugging {}\")\n",
    "\n",
    "a=10\n",
    "b=1.546e-23\n",
    "print(info(a), g(b))\n"
   ]
  },
  {
   "cell_type": "markdown",
   "metadata": {},
   "source": [
    "### Calculating the equilibrium size distribution for unactivated aerosols\n",
    "\n",
    "Below we use the rootfinder to search on log(radius) to find the equilibrium\n",
    "drop size for unactivaed aerosols on the left side of their Koehler curves"
   ]
  },
  {
   "cell_type": "code",
<<<<<<< HEAD
   "execution_count": 5,
=======
   "execution_count": 32,
>>>>>>> d28b56d9ec6b205a6ff1f721ae0456207d613570
   "metadata": {
    "collapsed": false
   },
   "outputs": [
    {
     "name": "stdout",
     "output_type": "stream",
     "text": [
      "for aerosol with mass = 1e-18 kg, SScrit,rcrit are  0.00175,    0.441 microns\n"
     ]
    }
   ],
   "source": [
    "aero=make_tuple(input_dict['aerosol'])\n",
    "parcel=make_tuple(input_dict['initial_conditions'])\n",
    "\n",
    "a, b = find_koehler_coeffs(aero,parcel)\n",
    "\n",
    "#\n",
    "# sanity check\n",
    "#\n",
    "m=1.e-18\n",
    "Scrit=(4.*a**3./(27.*b*m))**0.5;\n",
    "rcrit = (3.*m*b/a)**0.5\n",
    "print((\"for aerosol with mass = {} kg, \"\n",
    "       \"SScrit,rcrit are {:8.3g}, {:8.3g} microns\")\n",
    "        .format(m,Scrit,rcrit*1.e6))\n"
   ]
  },
  {
   "cell_type": "code",
<<<<<<< HEAD
   "execution_count": 6,
=======
   "execution_count": 33,
>>>>>>> d28b56d9ec6b205a6ff1f721ae0456207d613570
   "metadata": {
    "collapsed": false
   },
   "outputs": [
    {
     "name": "stdout",
     "output_type": "stream",
     "text": [
      "mass = 1.19e-20 kg\n",
      "left bracket = 1.318e+00 microns\n",
      "right bracket=7.586e-03 microns\n",
      "critical supersaturation: 0.0161\n",
      "equlibrium radius at S=0.5 is 0.009 microns\n",
      "\n",
      "mass = 1.63e-20 kg\n",
      "left bracket = 1.318e+00 microns\n",
      "right bracket=7.586e-03 microns\n",
      "critical supersaturation: 0.0137\n",
      "equlibrium radius at S=0.5 is 0.010 microns\n",
      "\n",
      "mass = 2.24e-20 kg\n",
      "left bracket = 1.318e+00 microns\n",
      "right bracket=7.586e-03 microns\n",
      "critical supersaturation: 0.0117\n",
      "equlibrium radius at S=0.5 is 0.011 microns\n",
      "\n",
      "mass = 3.08e-20 kg\n",
      "left bracket = 1.318e+00 microns\n",
      "right bracket=7.586e-03 microns\n",
      "critical supersaturation: 0.00999\n",
      "equlibrium radius at S=0.5 is 0.012 microns\n",
      "\n",
      "mass = 4.23e-20 kg\n",
      "left bracket = 1.318e+00 microns\n",
      "right bracket=7.586e-03 microns\n",
      "critical supersaturation: 0.00853\n",
      "equlibrium radius at S=0.5 is 0.014 microns\n",
      "\n",
      "mass = 5.81e-20 kg\n",
      "left bracket = 1.318e+00 microns\n",
      "right bracket=7.586e-03 microns\n",
      "critical supersaturation: 0.00727\n",
      "equlibrium radius at S=0.5 is 0.016 microns\n",
      "\n",
      "mass = 7.98e-20 kg\n",
      "left bracket = 6.194e-01 microns\n",
      "right bracket=1.615e-02 microns\n",
      "critical supersaturation: 0.00621\n",
      "equlibrium radius at S=0.5 is 0.017 microns\n",
      "\n",
      "mass = 1.1e-19 kg\n",
      "left bracket = 6.194e-01 microns\n",
      "right bracket=1.615e-02 microns\n",
      "critical supersaturation: 0.0053\n",
      "equlibrium radius at S=0.5 is 0.019 microns\n",
      "\n",
      "mass = 1.51e-19 kg\n",
      "left bracket = 6.194e-01 microns\n",
      "right bracket=1.615e-02 microns\n",
      "critical supersaturation: 0.00452\n",
      "equlibrium radius at S=0.5 is 0.022 microns\n",
      "\n",
      "mass = 2.07e-19 kg\n",
      "left bracket = 6.194e-01 microns\n",
      "right bracket=1.615e-02 microns\n",
      "critical supersaturation: 0.00385\n",
      "equlibrium radius at S=0.5 is 0.024 microns\n",
      "\n",
      "mass = 2.84e-19 kg\n",
      "left bracket = 6.194e-01 microns\n",
      "right bracket=1.615e-02 microns\n",
      "critical supersaturation: 0.00329\n",
      "equlibrium radius at S=0.5 is 0.027 microns\n",
      "\n",
      "mass = 3.91e-19 kg\n",
      "left bracket = 3.631e-01 microns\n",
      "right bracket=2.754e-02 microns\n",
      "critical supersaturation: 0.00281\n",
      "equlibrium radius at S=0.5 is 0.030 microns\n",
      "\n",
      "mass = 5.37e-19 kg\n",
      "left bracket = 3.631e-01 microns\n",
      "right bracket=2.754e-02 microns\n",
      "critical supersaturation: 0.00239\n",
      "equlibrium radius at S=0.5 is 0.034 microns\n",
      "\n",
      "mass = 7.37e-19 kg\n",
      "left bracket = 3.631e-01 microns\n",
      "right bracket=2.754e-02 microns\n",
      "critical supersaturation: 0.00204\n",
      "equlibrium radius at S=0.5 is 0.037 microns\n",
      "\n",
      "mass = 1.01e-18 kg\n",
      "left bracket = 2.489e-01 microns\n",
      "right bracket=4.018e-02 microns\n",
      "critical supersaturation: 0.00174\n",
      "equlibrium radius at S=0.5 is 0.042 microns\n",
      "\n",
      "mass = 1.39e-18 kg\n",
      "left bracket = 2.489e-01 microns\n",
      "right bracket=4.018e-02 microns\n",
      "critical supersaturation: 0.00149\n",
      "equlibrium radius at S=0.5 is 0.046 microns\n",
      "\n",
      "mass = 1.91e-18 kg\n",
      "left bracket = 2.489e-01 microns\n",
      "right bracket=4.018e-02 microns\n",
      "critical supersaturation: 0.00127\n",
      "equlibrium radius at S=0.5 is 0.052 microns\n",
      "\n",
      "mass = 2.63e-18 kg\n",
      "left bracket = 1.905e-01 microns\n",
      "right bracket=5.248e-02 microns\n",
      "critical supersaturation: 0.00108\n",
      "equlibrium radius at S=0.5 is 0.058 microns\n",
      "\n",
      "mass = 3.61e-18 kg\n",
      "left bracket = 1.578e-01 microns\n",
      "right bracket=6.339e-02 microns\n",
      "critical supersaturation: 0.000923\n",
      "equlibrium radius at S=0.5 is 0.064 microns\n",
      "\n",
      "mass = 4.96e-18 kg\n",
      "left bracket = 1.578e-01 microns\n",
      "right bracket=6.339e-02 microns\n",
      "critical supersaturation: 0.000788\n",
      "equlibrium radius at S=0.5 is 0.071 microns\n",
      "\n",
      "mass = 6.81e-18 kg\n",
      "left bracket = 1.578e-01 microns\n",
      "right bracket=6.339e-02 microns\n",
      "critical supersaturation: 0.000672\n",
      "equlibrium radius at S=0.5 is 0.079 microns\n",
      "\n",
      "mass = 9.35e-18 kg\n",
      "left bracket = 1.578e-01 microns\n",
      "right bracket=6.339e-02 microns\n",
      "critical supersaturation: 0.000573\n",
      "equlibrium radius at S=0.5 is 0.088 microns\n",
      "\n",
      "mass = 1.28e-17 kg\n",
      "left bracket = 1.578e-01 microns\n",
      "right bracket=6.339e-02 microns\n",
      "critical supersaturation: 0.000489\n",
      "equlibrium radius at S=0.5 is 0.098 microns\n",
      "\n",
      "mass = 1.77e-17 kg\n",
      "left bracket = 1.578e-01 microns\n",
      "right bracket=6.339e-02 microns\n",
      "critical supersaturation: 0.000417\n",
      "equlibrium radius at S=0.5 is 0.109 microns\n",
      "\n",
      "mass = 2.43e-17 kg\n",
      "left bracket = 1.578e-01 microns\n",
      "right bracket=6.339e-02 microns\n",
      "critical supersaturation: 0.000356\n",
      "equlibrium radius at S=0.5 is 0.122 microns\n",
      "\n",
      "mass = 3.33e-17 kg\n",
      "left bracket = 1.578e-01 microns\n",
      "right bracket=6.339e-02 microns\n",
      "critical supersaturation: 0.000304\n",
      "equlibrium radius at S=0.5 is 0.135 microns\n",
      "\n",
      "mass = 4.58e-17 kg\n",
      "left bracket = 1.578e-01 microns\n",
      "right bracket=6.339e-02 microns\n",
      "critical supersaturation: 0.000259\n",
      "equlibrium radius at S=0.5 is 0.150 microns\n",
      "\n",
      "mass = 6.29e-17 kg\n",
      "left bracket = 1.905e-01 microns\n",
      "right bracket=5.248e-02 microns\n",
      "critical supersaturation: 0.000221\n",
      "equlibrium radius at S=0.5 is 0.167 microns\n",
      "\n",
      "mass = 8.64e-17 kg\n",
      "left bracket = 1.905e-01 microns\n",
      "right bracket=5.248e-02 microns\n",
      "critical supersaturation: 0.000189\n",
      "equlibrium radius at S=0.5 is 0.186 microns\n",
      "\n"
     ]
    }
   ],
   "source": [
    "koehler_fun = create_koehler(aero,parcel)\n",
    "\n",
    "def find_diff(logr,S_target,m):\n",
    "    \"\"\"\n",
    "    zero function for rootfinder\n",
    "    \"\"\"\n",
    "    r = np.exp(logr)\n",
    "    return S_target - koehler_fun(r,m)\n",
    "\n",
    "S_target = parcel.Sinit\n",
    "S_target = 0.50\n",
    "logr_start = np.log(0.1e-6)\n",
    "\n",
    "initial_radius = []\n",
    "for mass in center_mass:\n",
    "    brackets = np.array(find_interval(find_diff,logr_start,S_target,mass))\n",
    "    left_bracket, right_bracket = np.exp(brackets)*1.e6  #get brackets in microns for printing\n",
    "    equil_rad = np.exp(fzero(find_diff,brackets,S_target,mass))\n",
    "    \n",
    "    Scrit=(4.*a**3./(27.*b*mass))**0.5\n",
    "    \n",
    "    initial_radius.append(equil_rad)\n",
    "    print(('mass = {mass:6.3g} kg\\n'\n",
    "           'left bracket = {left_bracket:8.3e} microns\\n'\n",
    "           'right bracket={right_bracket:8.3e} microns\\n'\n",
    "           'critical supersaturation: {Scrit:6.3g}')\n",
    "           .format_map(locals()))\n",
    "    print('equlibrium radius at S={} is {:5.3f} microns\\n'.format(S_target,equil_rad*1.e6))\n",
    "   \n"
   ]
  },
  {
   "cell_type": "code",
<<<<<<< HEAD
   "execution_count": 7,
=======
   "execution_count": 34,
>>>>>>> d28b56d9ec6b205a6ff1f721ae0456207d613570
   "metadata": {
    "collapsed": false
   },
   "outputs": [],
   "source": [
    "from a405thermo.constants import constants as c\n",
    "import matplotlib.pyplot as plt\n",
    "\n",
    "def find_vols(aerosol_mass,drop_radius):\n",
    "    aero_vol = aerosol_mass/aero.rhoaero\n",
    "    drop_vol = 4./3.*np.pi*drop_radius**3.\n",
    "    water_vol = drop_vol - aero_vol\n",
    "    return (aero_vol,water_vol)\n",
    "\n",
    "def find_ratios(aerosol_mass,aero_vol,water_vol):\n",
    "    total_vol = water_vol + aero_vol\n",
    "    ns = aerosol_mass/aero.Mw\n",
    "    nw_exact = water_vol*c.rhol/aero.Mw\n",
    "    nw_approx = total_vol*c.rhol/aero.Mw\n",
    "    return (ns/nw_approx, ns/nw_exact)\n",
    "    \n",
    "paired_vals = zip(center_mass,initial_radius) \n",
    "ratios = []\n",
    "for mass,radius in paired_vals:\n",
    "    aero_vol, water_vol = find_vols(mass,radius)\n",
    "    approx_ratio,exact_ratio = find_ratios(mass,aero_vol,water_vol)\n",
    "    ratios.append((approx_ratio,exact_ratio))\n",
    "df_out = pd.DataFrame.from_records(ratios,columns=['approx','exact'])"
   ]
  },
  {
   "cell_type": "code",
<<<<<<< HEAD
   "execution_count": 8,
=======
   "execution_count": 35,
>>>>>>> d28b56d9ec6b205a6ff1f721ae0456207d613570
   "metadata": {
    "collapsed": false
   },
   "outputs": [
    {
     "data": {
<<<<<<< HEAD
      "image/png": "iVBORw0KGgoAAAANSUhEUgAAAx0AAAH1CAYAAACTEZNVAAAABHNCSVQICAgIfAhkiAAAAAlwSFlz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\ndsWhg4iIiIiI7IpDBxERERER2dX/AYFvGCCJhfaqAAAAAElFTkSuQmCC\n",
      "text/plain": [
       "<matplotlib.figure.Figure at 0x10c0d7ef0>"
=======
      "image/png": "iVBORw0KGgoAAAANSUhEUgAAAxQAAAH1CAYAAABvBLifAAAABHNCSVQICAgIfAhkiAAAAAlwSFlz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\n",
      "text/plain": [
       "<matplotlib.figure.Figure at 0x113fa4828>"
>>>>>>> d28b56d9ec6b205a6ff1f721ae0456207d613570
      ]
     },
     "metadata": {},
     "output_type": "display_data"
    }
   ],
   "source": [
    "%matplotlib inline\n",
    "plt.close('all')\n",
    "plt.style.use('ggplot')\n",
    "fig, ax = plt.subplots(1,2,figsize=(13,8))\n",
    "ax[0].plot('exact',label='exact',data=df_out)\n",
    "ax[0].plot('approx',label='approx',data=df_out)\n",
    "ax[0].legend()\n",
    "ax[1].plot((df_out['exact'] - df_out['approx'])/df_out['exact'],label='fractional error')\n",
    "ax[1].legend()\n",
    "ax[0].set(xlabel='bin number',ylabel='$n_s/n_w$')\n",
    "out=ax[1].set(xlabel='bin number',ylabel='(exact - approx)/exact')"
   ]
  },
  {
   "cell_type": "code",
   "execution_count": null,
   "metadata": {
    "collapsed": true
   },
   "outputs": [],
   "source": []
  }
 ],
 "metadata": {
  "kernelspec": {
   "display_name": "Python 3",
   "language": "python",
   "name": "python3"
  },
  "language_info": {
   "codemirror_mode": {
    "name": "ipython",
    "version": 3
   },
   "file_extension": ".py",
   "mimetype": "text/x-python",
   "name": "python",
   "nbconvert_exporter": "python",
   "pygments_lexer": "ipython3",
   "version": "3.5.1"
  }
 },
 "nbformat": 4,
 "nbformat_minor": 0
}
