{
 "cells": [
  {
   "cell_type": "code",
   "execution_count": 39,
   "metadata": {
    "collapsed": true
   },
   "outputs": [],
   "source": [
    "#Day 22 Kohler hw"
   ]
  },
  {
   "cell_type": "code",
   "execution_count": 40,
   "metadata": {
    "collapsed": true
   },
   "outputs": [],
   "source": [
    "\n",
    "\n",
    "import numpy as np\n",
    "import matplotlib.pyplot as plt\n",
    "import a405thermo.rootfinder as rf"
   ]
  },
  {
   "cell_type": "code",
   "execution_count": 7,
   "metadata": {
    "collapsed": false
   },
   "outputs": [
    {
     "name": "stdout",
     "output_type": "stream",
     "text": [
      "1.1292021847803871e-06\n"
     ]
    },
    {
     "data": {
      "text/plain": [
       "<matplotlib.text.Text at 0x10a0d7978>"
      ]
     },
     "execution_count": 7,
     "metadata": {},
     "output_type": "execute_result"
    },
    {
     "data": {
      "image/png": "[encoded data removed]",
      "text/plain": [
       "<matplotlib.figure.Figure at 0x10a0cea58>"
      ]
     },
     "metadata": {},
     "output_type": "display_data"
    }
   ],
   "source": [
    "# Problem 1\n",
    "\n",
    "%matplotlib inline\n",
    "#plot Kohler curve for aerosol in eqn 6 and 7 of phaustin Kohler notes\n",
    "n_s = 2.3e-18 #moles\n",
    "sigma = 7.5e-2 # N/m\n",
    "Rv =461 #J Kg^-1 K^-1\n",
    "temp = 273.15 +15 #K (chosen by environment)\n",
    "i = 3 # Van Hoff Factor\n",
    "m = 10e-19 #kg mass of aerosol\n",
    "M_w = 0.018 # kg mol^-1 molecular weight water\n",
    "M_s = 0.132 # kg mol^-1 molecular weight solute\n",
    "row_s = 10e-19 / 1e-6 #kg m^-1\n",
    "row_l = 1\n",
    "radii = np.linspace(.2e-6,.6e-6,100)\n",
    "\n",
    "a = 2* sigma /(row_l * Rv * temp)\n",
    "print(a)\n",
    "n_w = (row_l * (4/3) *np.pi * (radii **3))/M_w\n",
    "\n",
    "sat_ratio = (1- (n_s/ n_w))*(np.exp(a/radii))\n",
    "fig,ax = plt.subplots(1,1,figsize=(6,6))\n",
    "ax.plot(radii,sat_ratio)\n",
    "ax.set_title('Kohler Curve')\n",
    "ax.set_ylabel('Supersaturation ratio')\n",
    "ax.set_xlabel('Radius in meters')\n",
    "\n",
    "\n"
   ]
  },
  {
   "cell_type": "code",
   "execution_count": null,
   "metadata": {
    "collapsed": true
   },
   "outputs": [],
   "source": []
  },
  {
   "cell_type": "code",
   "execution_count": 42,
   "metadata": {
    "collapsed": false
   },
   "outputs": [
    {
     "name": "stdout",
     "output_type": "stream",
     "text": [
      "2.1494165701149693e-07\n"
     ]
    }
   ],
   "source": [
    "# Problem 2\n",
    "\n",
    "import a405thermo.rootfinder as rf\n",
    "\n",
    "def find_kohler(radi_guess, rh, temp):\n",
    "    '''\n",
    "    inputs: radi_guess is in meters\n",
    "            rh is relative humidity\n",
    "            temp is in K\n",
    "            \n",
    "    outputs: rh - rh_guess        \n",
    "    \n",
    "    '''\n",
    "\n",
    "    n_s = 2.3e-18 #moles\n",
    "    sigma = 7.5e-2 # N/m\n",
    "    Rv =461 #J Kg^-1 K^-1\n",
    "    i = 3 # Van Hoff Factor\n",
    "    m = 10e-19 #kg mass of aerosol\n",
    "    M_w = 0.018 # kg mol^-1 molecular weight water\n",
    "    M_s = 0.132 # kg mol^-1 molecular weight solute\n",
    "    row_s = 10e-19 / 1e-6 #kg m^-1\n",
    "    row_l = 1\n",
    "\n",
    "\n",
    "    a = 2* sigma /(row_l * Rv * temp)\n",
    "    n_w = (row_l * (4/3) *np.pi * (radi_guess **3))/M_w\n",
    "\n",
    "    rh_guess = (1- (n_s/ n_w))*(np.exp(a/radi_guess))\n",
    "    return rh - rh_guess \n",
    "\n",
    "rh = 0.9\n",
    "temp = 273.15 + 15 #K\n",
    "\n",
    "brackets = rf.find_interval(find_kohler, 0.2e-6,rh,temp)\n",
    "\n",
    "\n",
    "equi_radii= rf.fzero(find_kohler,brackets,rh,temp)\n",
    "print(equi_radii)\n"
   ]
  },
  {
   "cell_type": "code",
   "execution_count": 4,
   "metadata": {
    "collapsed": false
   },
   "outputs": [
    {
     "name": "stdout",
     "output_type": "stream",
     "text": [
      "a 1.1292021847803871e-06\n",
      "1um b 9.883521966006699e-21\n",
      "1um b/r^3 0.009883521966006701\n",
      "1um a/r 1.1292021847803873\n",
      "1um ab/r^4 0.011160494597339714\n",
      "0.1um b 9.883521966006699e-21\n",
      "0.1um b/r^3 9.8835219660067\n",
      "0.1um a/r 11.292021847803872\n",
      "0.1um ab/r^4 111.60494597339714\n"
     ]
    }
   ],
   "source": [
    "#Day 23 HW Problem 2\n",
    "n_s = 2.3e-18 #moles\n",
    "sigma = 7.5e-2 # N/m\n",
    "Rv =461 #J Kg^-1 K^-1\n",
    "temp = 273.15 +15 #K (chosen by environment)\n",
    "i = 3 # Van Hoff Factor\n",
    "m = 10e-19 #kg mass of aerosol\n",
    "M_w = 0.018 # kg mol^-1 molecular weight water\n",
    "M_s = 0.132 # kg mol^-1 molecular weight solute\n",
    "row_s = 10e-19 / 1e-6 #kg m^-1\n",
    "row_l = 1\n",
    "radii = np.linspace(.2e-6,.6e-6,100)\n",
    "\n",
    "a = 2* sigma /(row_l * Rv * temp)\n",
    "print('a',a)\n",
    "n_w = (row_l * (4/3) *np.pi * (radii **3))/M_w\n",
    "\n",
    "sat_ratio = (1- (n_s/ n_w))*(np.exp(a/radii))\n",
    "\n",
    "##### Problem 2 day 23 HW###\n",
    "# for radii = 1 micometer\n",
    "radii_1um = 1e-6\n",
    "n_w_1um = (row_l * (4/3) *np.pi * (radii_1um **3))/M_w\n",
    "b_1um = (radii_1um**3)*(n_s / n_w_1um)\n",
    "print('1um b',b_1um)\n",
    "print('1um b/r^3',b_1um / radii_1um**3)\n",
    "print('1um a/r',a / radii_1um)\n",
    "print ('1um ab/r^4',a * b_1um / (radii_1um**4))\n",
    "\n",
    "##### Problem 2 day 23 HW###\n",
    "# for radii = 0.1 micometer\n",
    "radii_01um = 1e-7\n",
    "n_w_01um = (row_l * (4/3) *np.pi * (radii_01um **3))/M_w\n",
    "b_01um = (radii_01um**3)*(n_s / n_w_01um)\n",
    "print('0.1um b',b_01um)\n",
    "print('0.1um b/r^3',b_01um / radii_01um**3)\n",
    "print('0.1um a/r',a / radii_01um)\n",
    "print ('0.1um ab/r^4',a * b_01um / (radii_01um**4))\n"
   ]
  }
 ],
 "metadata": {
  "kernelspec": {
   "display_name": "Python 3",
   "language": "python",
   "name": "python3"
  },
  "language_info": {
   "codemirror_mode": {
    "name": "ipython",
    "version": 3
   },
   "file_extension": ".py",
   "mimetype": "text/x-python",
   "name": "python",
   "nbconvert_exporter": "python",
   "pygments_lexer": "ipython3",
   "version": "3.5.1"
  }
 },
 "nbformat": 4,
 "nbformat_minor": 0
}
